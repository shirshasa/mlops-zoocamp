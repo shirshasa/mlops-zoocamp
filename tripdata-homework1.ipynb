{
 "cells": [
  {
   "cell_type": "code",
   "execution_count": 1,
   "id": "3f42864b",
   "metadata": {},
   "outputs": [],
   "source": [
    "import pandas as pd\n",
    "import numpy as np\n",
    "\n",
    "\n",
    "from sklearn.metrics import mean_absolute_error\n",
    "from sklearn.metrics import mean_squared_error, r2_score\n",
    "\n",
    "\n",
    "import seaborn as sns\n",
    "import matplotlib.pyplot as plt\n",
    "from sklearn.feature_extraction import DictVectorizer\n",
    "from sklearn.linear_model import LinearRegression\n",
    "from sklearn.linear_model import Lasso\n",
    "from sklearn.linear_model import Ridge\n",
    "\n",
    "from sklearn.metrics import mean_squared_error\n",
    "\n",
    "\n",
    "\n",
    "target = 'duration'\n",
    "categorical = ['PUlocationID', 'DOlocationID']\n",
    "\n",
    "\n",
    "def read_dataset(file, categorical=categorical):\n",
    "    df = pd.read_parquet(file)\n",
    "    df['duration'] = df.dropOff_datetime - df.pickup_datetime\n",
    "    df.duration = df.duration.apply(lambda td: td.total_seconds() / 60)\n",
    "    df = df[(df.duration <= 60) & (df.duration >= 1)] \n",
    "    df[categorical] = df[categorical].fillna(-1)\n",
    "    df[categorical] = df[categorical].astype(int).astype(str)\n",
    "    return df.copy()"
   ]
  },
  {
   "cell_type": "markdown",
   "id": "cfdd22c4",
   "metadata": {},
   "source": [
    "### EDA"
   ]
  },
  {
   "cell_type": "code",
   "execution_count": 2,
   "id": "d07f17a7",
   "metadata": {},
   "outputs": [],
   "source": [
    "df = pd.read_parquet('data/fhv_tripdata_2021-01.parquet')\n",
    "df['duration'] = df.dropOff_datetime - df.pickup_datetime\n",
    "df.duration = df.duration.apply(lambda td: td.total_seconds() / 60)"
   ]
  },
  {
   "cell_type": "markdown",
   "id": "f5a58240",
   "metadata": {},
   "source": [
    "**1) Number of records in Jan 2021 FHV data**\n"
   ]
  },
  {
   "cell_type": "code",
   "execution_count": 3,
   "id": "06b7b755",
   "metadata": {},
   "outputs": [
    {
     "data": {
      "text/plain": [
       "(1154112, 8)"
      ]
     },
     "execution_count": 3,
     "metadata": {},
     "output_type": "execute_result"
    }
   ],
   "source": [
    "df.shape"
   ]
  },
  {
   "cell_type": "markdown",
   "id": "46510afb",
   "metadata": {},
   "source": [
    "**2) Average duration in Jan 2021 FHV**\n"
   ]
  },
  {
   "cell_type": "code",
   "execution_count": 4,
   "id": "28e754ea",
   "metadata": {},
   "outputs": [
    {
     "data": {
      "text/plain": [
       "19.167224093791006"
      ]
     },
     "execution_count": 4,
     "metadata": {},
     "output_type": "execute_result"
    }
   ],
   "source": [
    "df.duration.mean()"
   ]
  },
  {
   "cell_type": "markdown",
   "id": "72c56257",
   "metadata": {},
   "source": [
    "**3) Let's remove them and keep only the records where the duration was between 1 and 60 minutes (inclusive).**\n",
    "\n",
    "How many records did you drop?"
   ]
  },
  {
   "cell_type": "code",
   "execution_count": 5,
   "id": "716b5a5c",
   "metadata": {},
   "outputs": [
    {
     "data": {
      "image/png": "[encoded data removed]",
      "text/plain": [
       "<Figure size 360x216 with 1 Axes>"
      ]
     },
     "metadata": {
      "needs_background": "light"
     },
     "output_type": "display_data"
    }
   ],
   "source": [
    "plt.figure(figsize=(5,3))\n",
    "df.duration.hist(bins=50);"
   ]
  },
  {
   "cell_type": "code",
   "execution_count": 6,
   "id": "f48c545d",
   "metadata": {},
   "outputs": [],
   "source": [
    "df = df[(df.duration <= 60) & (df.duration >= 1)] "
   ]
  },
  {
   "cell_type": "code",
   "execution_count": 7,
   "id": "55db081c",
   "metadata": {},
   "outputs": [
    {
     "data": {
      "image/png": "[encoded data removed]",
      "text/plain": [
       "<Figure size 360x216 with 1 Axes>"
      ]
     },
     "metadata": {
      "needs_background": "light"
     },
     "output_type": "display_data"
    }
   ],
   "source": [
    "plt.figure(figsize=(5,3))\n",
    "df.duration.hist(bins=50);"
   ]
  },
  {
   "cell_type": "code",
   "execution_count": 8,
   "id": "948e40c6",
   "metadata": {},
   "outputs": [
    {
     "data": {
      "text/plain": [
       "44286"
      ]
     },
     "execution_count": 8,
     "metadata": {},
     "output_type": "execute_result"
    }
   ],
   "source": [
    "1154112 - df.shape[0]"
   ]
  },
  {
   "cell_type": "markdown",
   "id": "9569a92c",
   "metadata": {},
   "source": [
    "**4) What's the fractions of missing values for the pickup location ID?**"
   ]
  },
  {
   "cell_type": "code",
   "execution_count": 9,
   "id": "e45d6e39",
   "metadata": {},
   "outputs": [
    {
     "data": {
      "text/plain": [
       "0.84"
      ]
     },
     "execution_count": 9,
     "metadata": {},
     "output_type": "execute_result"
    }
   ],
   "source": [
    "round(df.PUlocationID.isna().sum()/df.shape[0], 2)"
   ]
  },
  {
   "cell_type": "markdown",
   "id": "ace6335b",
   "metadata": {},
   "source": [
    "### Fit LR model"
   ]
  },
  {
   "cell_type": "code",
   "execution_count": 5,
   "id": "a91ea517",
   "metadata": {},
   "outputs": [],
   "source": [
    "df = read_dataset('data/fhv_tripdata_2021-01.parquet')"
   ]
  },
  {
   "cell_type": "code",
   "execution_count": 6,
   "id": "c9ad3ea6",
   "metadata": {},
   "outputs": [],
   "source": [
    "train_dicts = df[categorical].to_dict(orient='records')\n",
    "dv = DictVectorizer()\n",
    "X_train = dv.fit_transform(train_dicts)"
   ]
  },
  {
   "cell_type": "markdown",
   "id": "097e88f2",
   "metadata": {},
   "source": [
    "***5)  Dimensionality after OHE***"
   ]
  },
  {
   "cell_type": "code",
   "execution_count": 7,
   "id": "c4c4c06f",
   "metadata": {},
   "outputs": [
    {
     "data": {
      "text/plain": [
       "525"
      ]
     },
     "execution_count": 7,
     "metadata": {},
     "output_type": "execute_result"
    }
   ],
   "source": [
    "X_train.shape[1]"
   ]
  },
  {
   "cell_type": "markdown",
   "id": "d1a17c08",
   "metadata": {},
   "source": [
    "***6) RMSE on train***"
   ]
  },
  {
   "cell_type": "code",
   "execution_count": 8,
   "id": "cb191630",
   "metadata": {},
   "outputs": [
    {
     "name": "stdout",
     "output_type": "stream",
     "text": [
      "RMSE on train: 10.53\n",
      "r^2 on train: 0.1693\n"
     ]
    }
   ],
   "source": [
    "y_train = df[target].values\n",
    "\n",
    "lr = LinearRegression()\n",
    "lr.fit(X_train, y_train)\n",
    "\n",
    "y_pred = lr.predict(X_train)\n",
    "\n",
    "print(f'RMSE on train: {mean_squared_error(y_train, y_pred, squared=False):.4}')\n",
    "print(f'r^2 on train: {r2_score(y_train, y_pred):.4}')"
   ]
  },
  {
   "cell_type": "markdown",
   "id": "ee224835",
   "metadata": {},
   "source": [
    "**7) RMSE on validation**"
   ]
  },
  {
   "cell_type": "code",
   "execution_count": 9,
   "id": "5ea64329",
   "metadata": {},
   "outputs": [
    {
     "name": "stdout",
     "output_type": "stream",
     "text": [
      "RMSE on validation: 11.01\n"
     ]
    }
   ],
   "source": [
    "df_valid = read_dataset('data/fhv_tripdata_2021-02.parquet')\n",
    "\n",
    "valid_dicts = df_valid[categorical].to_dict(orient='records')\n",
    "X_valid = dv.transform(valid_dicts)\n",
    "\n",
    "y_valid = df_valid[target].values\n",
    "y_pred = lr.predict(X_valid)\n",
    "\n",
    "print(f'RMSE on validation: {mean_squared_error(y_valid, y_pred, squared=False):.4}')"
   ]
  },
  {
   "cell_type": "markdown",
   "id": "de99e60e",
   "metadata": {},
   "source": [
    "### Add data from  taxi zones"
   ]
  },
  {
   "cell_type": "code",
   "execution_count": 10,
   "id": "ef43b827",
   "metadata": {},
   "outputs": [],
   "source": [
    "lookup = pd.read_csv('data/taxi+_zone_lookup.csv')\n",
    "lookup.Borough = lookup.Borough.apply(lambda x: x if x != 'Unknown' else None)\n",
    "lookup.LocationID = lookup.LocationID.fillna(-1).astype(int).astype(str)\n",
    "\n",
    "category2 = ['Borough', 'Zone', 'service_zone']\n",
    "lookup[category2] = lookup[category2].fillna('').astype(str)"
   ]
  },
  {
   "cell_type": "code",
   "execution_count": 76,
   "id": "41b7a189",
   "metadata": {},
   "outputs": [
    {
     "data": {
      "text/html": [
       "<div>\n",
       "<style scoped>\n",
       "    .dataframe tbody tr th:only-of-type {\n",
       "        vertical-align: middle;\n",
       "    }\n",
       "\n",
       "    .dataframe tbody tr th {\n",
       "        vertical-align: top;\n",
       "    }\n",
       "\n",
       "    .dataframe thead th {\n",
       "        text-align: right;\n",
       "    }\n",
       "</style>\n",
       "<table border=\"1\" class=\"dataframe\">\n",
       "  <thead>\n",
       "    <tr style=\"text-align: right;\">\n",
       "      <th></th>\n",
       "      <th>LocationID</th>\n",
       "      <th>Borough</th>\n",
       "      <th>Zone</th>\n",
       "      <th>service_zone</th>\n",
       "    </tr>\n",
       "  </thead>\n",
       "  <tbody>\n",
       "    <tr>\n",
       "      <th>0</th>\n",
       "      <td>1</td>\n",
       "      <td>EWR</td>\n",
       "      <td>Newark Airport</td>\n",
       "      <td>EWR</td>\n",
       "    </tr>\n",
       "    <tr>\n",
       "      <th>1</th>\n",
       "      <td>2</td>\n",
       "      <td>Queens</td>\n",
       "      <td>Jamaica Bay</td>\n",
       "      <td>Boro Zone</td>\n",
       "    </tr>\n",
       "    <tr>\n",
       "      <th>2</th>\n",
       "      <td>3</td>\n",
       "      <td>Bronx</td>\n",
       "      <td>Allerton/Pelham Gardens</td>\n",
       "      <td>Boro Zone</td>\n",
       "    </tr>\n",
       "  </tbody>\n",
       "</table>\n",
       "</div>"
      ],
      "text/plain": [
       "  LocationID Borough                     Zone service_zone\n",
       "0          1     EWR           Newark Airport          EWR\n",
       "1          2  Queens              Jamaica Bay    Boro Zone\n",
       "2          3   Bronx  Allerton/Pelham Gardens    Boro Zone"
      ]
     },
     "execution_count": 76,
     "metadata": {},
     "output_type": "execute_result"
    }
   ],
   "source": [
    "lookup[:3]"
   ]
  },
  {
   "cell_type": "code",
   "execution_count": 11,
   "id": "1d19773e",
   "metadata": {},
   "outputs": [],
   "source": [
    "df_expanded = df.join(lookup.set_index('LocationID'), on='PUlocationID').\\\n",
    "                 join(lookup.set_index('LocationID'), on='DOlocationID', rsuffix='DOI')"
   ]
  },
  {
   "cell_type": "code",
   "execution_count": 12,
   "id": "0fd6b988",
   "metadata": {},
   "outputs": [],
   "source": [
    "meta = [ 'Borough', 'Zone', 'service_zone', 'BoroughDOI', 'ZoneDOI',\n",
    "       'service_zoneDOI']"
   ]
  },
  {
   "cell_type": "code",
   "execution_count": 13,
   "id": "c8fc6bec",
   "metadata": {},
   "outputs": [
    {
     "name": "stdout",
     "output_type": "stream",
     "text": [
      "RMSE on train: 10.54\n"
     ]
    }
   ],
   "source": [
    "df_expanded[meta] = df_expanded[meta].fillna('')\n",
    "train_dicts = df_expanded[ meta ].to_dict(orient='records')\n",
    "\n",
    "dv = DictVectorizer()\n",
    "X_train = dv.fit_transform(train_dicts)\n",
    "\n",
    "y_train = df[target].values\n",
    "\n",
    "lr = LinearRegression()\n",
    "lr.fit(X_train, y_train)\n",
    "\n",
    "y_pred = lr.predict(X_train)\n",
    "\n",
    "print(f'RMSE on train: {mean_squared_error(y_train, y_pred, squared=False):.4}')"
   ]
  },
  {
   "cell_type": "markdown",
   "id": "793238a4",
   "metadata": {},
   "source": [
    "### Add daytime info"
   ]
  },
  {
   "cell_type": "code",
   "execution_count": 16,
   "id": "0c08b5c2",
   "metadata": {},
   "outputs": [],
   "source": [
    "df['week'] = df.pickup_datetime.dt.weekday\n",
    "df['hour'] = df.pickup_datetime.dt.hour"
   ]
  },
  {
   "cell_type": "code",
   "execution_count": 18,
   "id": "07e47c72",
   "metadata": {},
   "outputs": [
    {
     "name": "stdout",
     "output_type": "stream",
     "text": [
      "RMSE on train: 10.51\n",
      "r^2 on train: 0.1724\n"
     ]
    }
   ],
   "source": [
    "train_dicts = df[categorical + ['week', 'hour']].to_dict(orient='records')\n",
    "\n",
    "dv = DictVectorizer()\n",
    "X_train = dv.fit_transform(train_dicts)\n",
    "\n",
    "y_train = df[target].values\n",
    "\n",
    "lr = LinearRegression()\n",
    "lr.fit(X_train, y_train)\n",
    "\n",
    "y_pred = lr.predict(X_train)\n",
    "\n",
    "print(f'RMSE on train: {mean_squared_error(y_train, y_pred, squared=False):.4}')\n",
    "print(f'r^2 on train: {r2_score(y_train, y_pred):.4}')"
   ]
  },
  {
   "cell_type": "code",
   "execution_count": 19,
   "id": "dfc79fd6",
   "metadata": {},
   "outputs": [
    {
     "name": "stdout",
     "output_type": "stream",
     "text": [
      "RMSE on train: 11.01\n"
     ]
    }
   ],
   "source": [
    "df_valid['week'] = df_valid.pickup_datetime.dt.weekday\n",
    "df_valid['hour'] = df_valid.pickup_datetime.dt.hour\n",
    "\n",
    "valid_dicts = df_valid[categorical].to_dict(orient='records')\n",
    "X_valid = dv.transform(valid_dicts)\n",
    "\n",
    "y_valid = df_valid[target].values\n",
    "y_pred = lr.predict(X_valid)\n",
    "\n",
    "print(f'RMSE on train: {mean_squared_error(y_valid, y_pred, squared=False):.4}')"
   ]
  },
  {
   "cell_type": "code",
   "execution_count": null,
   "id": "25c2ffc5",
   "metadata": {},
   "outputs": [],
   "source": []
  }
 ],
 "metadata": {
  "kernelspec": {
   "display_name": "Python 3 (ipykernel)",
   "language": "python",
   "name": "python3"
  },
  "language_info": {
   "codemirror_mode": {
    "name": "ipython",
    "version": 3
   },
   "file_extension": ".py",
   "mimetype": "text/x-python",
   "name": "python",
   "nbconvert_exporter": "python",
   "pygments_lexer": "ipython3",
   "version": "3.9.5"
  }
 },
 "nbformat": 4,
 "nbformat_minor": 5
}
